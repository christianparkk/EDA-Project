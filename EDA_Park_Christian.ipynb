{
  "nbformat": 4,
  "nbformat_minor": 0,
  "metadata": {
    "colab": {
      "name": "EDA_Park_Christian.ipynb",
      "provenance": []
    },
    "kernelspec": {
      "name": "python3",
      "display_name": "Python 3"
    }
  },
  "cells": [
    {
      "cell_type": "markdown",
      "metadata": {
        "id": "XOIzK4wadgP3"
      },
      "source": [
        "**INTRODUCTION**\n",
        "\n",
        "The data set comprises of information on 7200 apps on App store with following imp details:\n",
        "\n",
        "\"id\" : App ID\n",
        "\"track_name\": App Name\n",
        "\"size_bytes\": Size (in Bytes)\n",
        "\"price\": Price amount\n",
        "\"rating_count_tot\": User Rating counts (for all version)\n",
        "\"rating_count_ver\": User Rating counts (for current version)\n",
        "\"prime_genre\": Primary Genre\n",
        "\n",
        "Link To Notebook: https://colab.research.google.com/drive/1J_khk45vb1WKEZPFCzaMlNgzCq3bWu02?usp=sharing\n",
        "\n"
      ]
    },
    {
      "cell_type": "code",
      "metadata": {
        "id": "yj3yIbhDcJwx"
      },
      "source": [
        "import pandas as pd\n",
        "import numpy as np\n",
        "from matplotlib import pyplot as plt\n",
        "import seaborn as sns"
      ],
      "execution_count": 1,
      "outputs": []
    },
    {
      "cell_type": "code",
      "metadata": {
        "colab": {
          "base_uri": "https://localhost:8080/",
          "height": 428
        },
        "id": "9FU-9VM5eSjc",
        "outputId": "2d53e552-4c32-43a2-c466-464a60205d6e"
      },
      "source": [
        "apple_df = pd.read_csv('AppleStore.csv')\n",
        "apple_df.head()"
      ],
      "execution_count": 2,
      "outputs": [
        {
          "output_type": "execute_result",
          "data": {
            "text/html": [
              "<div>\n",
              "<style scoped>\n",
              "    .dataframe tbody tr th:only-of-type {\n",
              "        vertical-align: middle;\n",
              "    }\n",
              "\n",
              "    .dataframe tbody tr th {\n",
              "        vertical-align: top;\n",
              "    }\n",
              "\n",
              "    .dataframe thead th {\n",
              "        text-align: right;\n",
              "    }\n",
              "</style>\n",
              "<table border=\"1\" class=\"dataframe\">\n",
              "  <thead>\n",
              "    <tr style=\"text-align: right;\">\n",
              "      <th></th>\n",
              "      <th>Unnamed: 0</th>\n",
              "      <th>id</th>\n",
              "      <th>track_name</th>\n",
              "      <th>size_bytes</th>\n",
              "      <th>currency</th>\n",
              "      <th>price</th>\n",
              "      <th>rating_count_tot</th>\n",
              "      <th>rating_count_ver</th>\n",
              "      <th>user_rating</th>\n",
              "      <th>user_rating_ver</th>\n",
              "      <th>ver</th>\n",
              "      <th>cont_rating</th>\n",
              "      <th>prime_genre</th>\n",
              "      <th>sup_devices.num</th>\n",
              "      <th>ipadSc_urls.num</th>\n",
              "      <th>lang.num</th>\n",
              "      <th>vpp_lic</th>\n",
              "    </tr>\n",
              "  </thead>\n",
              "  <tbody>\n",
              "    <tr>\n",
              "      <th>0</th>\n",
              "      <td>1</td>\n",
              "      <td>281656475</td>\n",
              "      <td>PAC-MAN Premium</td>\n",
              "      <td>100788224</td>\n",
              "      <td>USD</td>\n",
              "      <td>3.99</td>\n",
              "      <td>21292</td>\n",
              "      <td>26</td>\n",
              "      <td>4.0</td>\n",
              "      <td>4.5</td>\n",
              "      <td>6.3.5</td>\n",
              "      <td>4+</td>\n",
              "      <td>Games</td>\n",
              "      <td>38</td>\n",
              "      <td>5</td>\n",
              "      <td>10</td>\n",
              "      <td>1</td>\n",
              "    </tr>\n",
              "    <tr>\n",
              "      <th>1</th>\n",
              "      <td>2</td>\n",
              "      <td>281796108</td>\n",
              "      <td>Evernote - stay organized</td>\n",
              "      <td>158578688</td>\n",
              "      <td>USD</td>\n",
              "      <td>0.00</td>\n",
              "      <td>161065</td>\n",
              "      <td>26</td>\n",
              "      <td>4.0</td>\n",
              "      <td>3.5</td>\n",
              "      <td>8.2.2</td>\n",
              "      <td>4+</td>\n",
              "      <td>Productivity</td>\n",
              "      <td>37</td>\n",
              "      <td>5</td>\n",
              "      <td>23</td>\n",
              "      <td>1</td>\n",
              "    </tr>\n",
              "    <tr>\n",
              "      <th>2</th>\n",
              "      <td>3</td>\n",
              "      <td>281940292</td>\n",
              "      <td>WeatherBug - Local Weather, Radar, Maps, Alerts</td>\n",
              "      <td>100524032</td>\n",
              "      <td>USD</td>\n",
              "      <td>0.00</td>\n",
              "      <td>188583</td>\n",
              "      <td>2822</td>\n",
              "      <td>3.5</td>\n",
              "      <td>4.5</td>\n",
              "      <td>5.0.0</td>\n",
              "      <td>4+</td>\n",
              "      <td>Weather</td>\n",
              "      <td>37</td>\n",
              "      <td>5</td>\n",
              "      <td>3</td>\n",
              "      <td>1</td>\n",
              "    </tr>\n",
              "    <tr>\n",
              "      <th>3</th>\n",
              "      <td>4</td>\n",
              "      <td>282614216</td>\n",
              "      <td>eBay: Best App to Buy, Sell, Save! Online Shop...</td>\n",
              "      <td>128512000</td>\n",
              "      <td>USD</td>\n",
              "      <td>0.00</td>\n",
              "      <td>262241</td>\n",
              "      <td>649</td>\n",
              "      <td>4.0</td>\n",
              "      <td>4.5</td>\n",
              "      <td>5.10.0</td>\n",
              "      <td>12+</td>\n",
              "      <td>Shopping</td>\n",
              "      <td>37</td>\n",
              "      <td>5</td>\n",
              "      <td>9</td>\n",
              "      <td>1</td>\n",
              "    </tr>\n",
              "    <tr>\n",
              "      <th>4</th>\n",
              "      <td>5</td>\n",
              "      <td>282935706</td>\n",
              "      <td>Bible</td>\n",
              "      <td>92774400</td>\n",
              "      <td>USD</td>\n",
              "      <td>0.00</td>\n",
              "      <td>985920</td>\n",
              "      <td>5320</td>\n",
              "      <td>4.5</td>\n",
              "      <td>5.0</td>\n",
              "      <td>7.5.1</td>\n",
              "      <td>4+</td>\n",
              "      <td>Reference</td>\n",
              "      <td>37</td>\n",
              "      <td>5</td>\n",
              "      <td>45</td>\n",
              "      <td>1</td>\n",
              "    </tr>\n",
              "  </tbody>\n",
              "</table>\n",
              "</div>"
            ],
            "text/plain": [
              "   Unnamed: 0         id  ... lang.num  vpp_lic\n",
              "0           1  281656475  ...       10        1\n",
              "1           2  281796108  ...       23        1\n",
              "2           3  281940292  ...        3        1\n",
              "3           4  282614216  ...        9        1\n",
              "4           5  282935706  ...       45        1\n",
              "\n",
              "[5 rows x 17 columns]"
            ]
          },
          "metadata": {
            "tags": []
          },
          "execution_count": 2
        }
      ]
    },
    {
      "cell_type": "markdown",
      "metadata": {
        "id": "K1XOns37ehHy"
      },
      "source": [
        "**Data Wrangling & Checking for Nulls**"
      ]
    },
    {
      "cell_type": "code",
      "metadata": {
        "colab": {
          "base_uri": "https://localhost:8080/"
        },
        "id": "pXo0tXvgel-K",
        "outputId": "9aa03ac1-4b29-4c0b-d283-ef2aa830148a"
      },
      "source": [
        "apple_df.info()"
      ],
      "execution_count": 3,
      "outputs": [
        {
          "output_type": "stream",
          "text": [
            "<class 'pandas.core.frame.DataFrame'>\n",
            "RangeIndex: 7197 entries, 0 to 7196\n",
            "Data columns (total 17 columns):\n",
            " #   Column            Non-Null Count  Dtype  \n",
            "---  ------            --------------  -----  \n",
            " 0   Unnamed: 0        7197 non-null   int64  \n",
            " 1   id                7197 non-null   int64  \n",
            " 2   track_name        7197 non-null   object \n",
            " 3   size_bytes        7197 non-null   int64  \n",
            " 4   currency          7197 non-null   object \n",
            " 5   price             7197 non-null   float64\n",
            " 6   rating_count_tot  7197 non-null   int64  \n",
            " 7   rating_count_ver  7197 non-null   int64  \n",
            " 8   user_rating       7197 non-null   float64\n",
            " 9   user_rating_ver   7197 non-null   float64\n",
            " 10  ver               7197 non-null   object \n",
            " 11  cont_rating       7197 non-null   object \n",
            " 12  prime_genre       7197 non-null   object \n",
            " 13  sup_devices.num   7197 non-null   int64  \n",
            " 14  ipadSc_urls.num   7197 non-null   int64  \n",
            " 15  lang.num          7197 non-null   int64  \n",
            " 16  vpp_lic           7197 non-null   int64  \n",
            "dtypes: float64(3), int64(9), object(5)\n",
            "memory usage: 956.0+ KB\n"
          ],
          "name": "stdout"
        }
      ]
    },
    {
      "cell_type": "code",
      "metadata": {
        "colab": {
          "base_uri": "https://localhost:8080/"
        },
        "id": "EAIbWjMqepI7",
        "outputId": "71413e55-7be6-432f-d002-0773c6c8925d"
      },
      "source": [
        "apple_df.shape"
      ],
      "execution_count": 4,
      "outputs": [
        {
          "output_type": "execute_result",
          "data": {
            "text/plain": [
              "(7197, 17)"
            ]
          },
          "metadata": {
            "tags": []
          },
          "execution_count": 4
        }
      ]
    },
    {
      "cell_type": "code",
      "metadata": {
        "colab": {
          "base_uri": "https://localhost:8080/"
        },
        "id": "4Fyu3QSLerQS",
        "outputId": "bd97cec3-d3fa-459c-854b-6fdfc3d39ce5"
      },
      "source": [
        "apple_df.dtypes"
      ],
      "execution_count": 5,
      "outputs": [
        {
          "output_type": "execute_result",
          "data": {
            "text/plain": [
              "Unnamed: 0            int64\n",
              "id                    int64\n",
              "track_name           object\n",
              "size_bytes            int64\n",
              "currency             object\n",
              "price               float64\n",
              "rating_count_tot      int64\n",
              "rating_count_ver      int64\n",
              "user_rating         float64\n",
              "user_rating_ver     float64\n",
              "ver                  object\n",
              "cont_rating          object\n",
              "prime_genre          object\n",
              "sup_devices.num       int64\n",
              "ipadSc_urls.num       int64\n",
              "lang.num              int64\n",
              "vpp_lic               int64\n",
              "dtype: object"
            ]
          },
          "metadata": {
            "tags": []
          },
          "execution_count": 5
        }
      ]
    },
    {
      "cell_type": "code",
      "metadata": {
        "colab": {
          "base_uri": "https://localhost:8080/"
        },
        "id": "nXoUhwzJeuNz",
        "outputId": "8cc0d3af-ab4a-4e45-bc11-fd611bf95e76"
      },
      "source": [
        "apple_df.isnull().sum()"
      ],
      "execution_count": 6,
      "outputs": [
        {
          "output_type": "execute_result",
          "data": {
            "text/plain": [
              "Unnamed: 0          0\n",
              "id                  0\n",
              "track_name          0\n",
              "size_bytes          0\n",
              "currency            0\n",
              "price               0\n",
              "rating_count_tot    0\n",
              "rating_count_ver    0\n",
              "user_rating         0\n",
              "user_rating_ver     0\n",
              "ver                 0\n",
              "cont_rating         0\n",
              "prime_genre         0\n",
              "sup_devices.num     0\n",
              "ipadSc_urls.num     0\n",
              "lang.num            0\n",
              "vpp_lic             0\n",
              "dtype: int64"
            ]
          },
          "metadata": {
            "tags": []
          },
          "execution_count": 6
        }
      ]
    },
    {
      "cell_type": "code",
      "metadata": {
        "colab": {
          "base_uri": "https://localhost:8080/",
          "height": 428
        },
        "id": "aX7Pqzz8fNnM",
        "outputId": "ef89c34b-c9e5-4c26-c082-f035fa830223"
      },
      "source": [
        "#getting rid of unnecessary colums\n",
        "apple_df_drop = apple_df.drop(['vpp_lic', 'ipadSc_urls.num', 'lang.num'], axis=1)\n",
        "apple_df_drop.head()"
      ],
      "execution_count": 7,
      "outputs": [
        {
          "output_type": "execute_result",
          "data": {
            "text/html": [
              "<div>\n",
              "<style scoped>\n",
              "    .dataframe tbody tr th:only-of-type {\n",
              "        vertical-align: middle;\n",
              "    }\n",
              "\n",
              "    .dataframe tbody tr th {\n",
              "        vertical-align: top;\n",
              "    }\n",
              "\n",
              "    .dataframe thead th {\n",
              "        text-align: right;\n",
              "    }\n",
              "</style>\n",
              "<table border=\"1\" class=\"dataframe\">\n",
              "  <thead>\n",
              "    <tr style=\"text-align: right;\">\n",
              "      <th></th>\n",
              "      <th>Unnamed: 0</th>\n",
              "      <th>id</th>\n",
              "      <th>track_name</th>\n",
              "      <th>size_bytes</th>\n",
              "      <th>currency</th>\n",
              "      <th>price</th>\n",
              "      <th>rating_count_tot</th>\n",
              "      <th>rating_count_ver</th>\n",
              "      <th>user_rating</th>\n",
              "      <th>user_rating_ver</th>\n",
              "      <th>ver</th>\n",
              "      <th>cont_rating</th>\n",
              "      <th>prime_genre</th>\n",
              "      <th>sup_devices.num</th>\n",
              "    </tr>\n",
              "  </thead>\n",
              "  <tbody>\n",
              "    <tr>\n",
              "      <th>0</th>\n",
              "      <td>1</td>\n",
              "      <td>281656475</td>\n",
              "      <td>PAC-MAN Premium</td>\n",
              "      <td>100788224</td>\n",
              "      <td>USD</td>\n",
              "      <td>3.99</td>\n",
              "      <td>21292</td>\n",
              "      <td>26</td>\n",
              "      <td>4.0</td>\n",
              "      <td>4.5</td>\n",
              "      <td>6.3.5</td>\n",
              "      <td>4+</td>\n",
              "      <td>Games</td>\n",
              "      <td>38</td>\n",
              "    </tr>\n",
              "    <tr>\n",
              "      <th>1</th>\n",
              "      <td>2</td>\n",
              "      <td>281796108</td>\n",
              "      <td>Evernote - stay organized</td>\n",
              "      <td>158578688</td>\n",
              "      <td>USD</td>\n",
              "      <td>0.00</td>\n",
              "      <td>161065</td>\n",
              "      <td>26</td>\n",
              "      <td>4.0</td>\n",
              "      <td>3.5</td>\n",
              "      <td>8.2.2</td>\n",
              "      <td>4+</td>\n",
              "      <td>Productivity</td>\n",
              "      <td>37</td>\n",
              "    </tr>\n",
              "    <tr>\n",
              "      <th>2</th>\n",
              "      <td>3</td>\n",
              "      <td>281940292</td>\n",
              "      <td>WeatherBug - Local Weather, Radar, Maps, Alerts</td>\n",
              "      <td>100524032</td>\n",
              "      <td>USD</td>\n",
              "      <td>0.00</td>\n",
              "      <td>188583</td>\n",
              "      <td>2822</td>\n",
              "      <td>3.5</td>\n",
              "      <td>4.5</td>\n",
              "      <td>5.0.0</td>\n",
              "      <td>4+</td>\n",
              "      <td>Weather</td>\n",
              "      <td>37</td>\n",
              "    </tr>\n",
              "    <tr>\n",
              "      <th>3</th>\n",
              "      <td>4</td>\n",
              "      <td>282614216</td>\n",
              "      <td>eBay: Best App to Buy, Sell, Save! Online Shop...</td>\n",
              "      <td>128512000</td>\n",
              "      <td>USD</td>\n",
              "      <td>0.00</td>\n",
              "      <td>262241</td>\n",
              "      <td>649</td>\n",
              "      <td>4.0</td>\n",
              "      <td>4.5</td>\n",
              "      <td>5.10.0</td>\n",
              "      <td>12+</td>\n",
              "      <td>Shopping</td>\n",
              "      <td>37</td>\n",
              "    </tr>\n",
              "    <tr>\n",
              "      <th>4</th>\n",
              "      <td>5</td>\n",
              "      <td>282935706</td>\n",
              "      <td>Bible</td>\n",
              "      <td>92774400</td>\n",
              "      <td>USD</td>\n",
              "      <td>0.00</td>\n",
              "      <td>985920</td>\n",
              "      <td>5320</td>\n",
              "      <td>4.5</td>\n",
              "      <td>5.0</td>\n",
              "      <td>7.5.1</td>\n",
              "      <td>4+</td>\n",
              "      <td>Reference</td>\n",
              "      <td>37</td>\n",
              "    </tr>\n",
              "  </tbody>\n",
              "</table>\n",
              "</div>"
            ],
            "text/plain": [
              "   Unnamed: 0         id  ...   prime_genre  sup_devices.num\n",
              "0           1  281656475  ...         Games               38\n",
              "1           2  281796108  ...  Productivity               37\n",
              "2           3  281940292  ...       Weather               37\n",
              "3           4  282614216  ...      Shopping               37\n",
              "4           5  282935706  ...     Reference               37\n",
              "\n",
              "[5 rows x 14 columns]"
            ]
          },
          "metadata": {
            "tags": []
          },
          "execution_count": 7
        }
      ]
    },
    {
      "cell_type": "markdown",
      "metadata": {
        "id": "NtDMwVtHgtka"
      },
      "source": [
        "**EXPLORATORY ANALYSIS**"
      ]
    },
    {
      "cell_type": "markdown",
      "metadata": {
        "id": "ARj6cG8WhIXX"
      },
      "source": [
        "**1. How do you visualize the price distribution of apps?**"
      ]
    },
    {
      "cell_type": "code",
      "metadata": {
        "colab": {
          "base_uri": "https://localhost:8080/",
          "height": 334
        },
        "id": "JIksVh72hD6A",
        "outputId": "dd0f994e-5cc6-4026-e70a-ddda2aac2f1e"
      },
      "source": [
        "print ('1. Free apps are ' + str(sum(apple_df.price == 0)))\n",
        "print ('2. Counting (outliers) super expensive apps ' + str(sum(apple_df.price > 50)))\n",
        "print (' -  which is around ' + str(sum(apple_df.price > 50)/len(apple_df.price)*100) +\n",
        "       \" % of the total Apps\")\n",
        "print (' Thus we will dropping the following apps')\n",
        "outlier=apple_df[apple_df.price>50][['track_name','price','prime_genre','user_rating']]\n",
        "freeapps = apple_df[apple_df.price==0]\n",
        "outlier"
      ],
      "execution_count": 11,
      "outputs": [
        {
          "output_type": "stream",
          "text": [
            "1. Free apps are 4056\n",
            "2. Counting (outliers) super expensive apps 7\n",
            " -  which is around 0.09726274836737529 % of the total Apps\n",
            " Thus we will dropping the following apps\n"
          ],
          "name": "stdout"
        },
        {
          "output_type": "execute_result",
          "data": {
            "text/html": [
              "<div>\n",
              "<style scoped>\n",
              "    .dataframe tbody tr th:only-of-type {\n",
              "        vertical-align: middle;\n",
              "    }\n",
              "\n",
              "    .dataframe tbody tr th {\n",
              "        vertical-align: top;\n",
              "    }\n",
              "\n",
              "    .dataframe thead th {\n",
              "        text-align: right;\n",
              "    }\n",
              "</style>\n",
              "<table border=\"1\" class=\"dataframe\">\n",
              "  <thead>\n",
              "    <tr style=\"text-align: right;\">\n",
              "      <th></th>\n",
              "      <th>track_name</th>\n",
              "      <th>price</th>\n",
              "      <th>prime_genre</th>\n",
              "      <th>user_rating</th>\n",
              "    </tr>\n",
              "  </thead>\n",
              "  <tbody>\n",
              "    <tr>\n",
              "      <th>115</th>\n",
              "      <td>Proloquo2Go - Symbol-based AAC</td>\n",
              "      <td>249.99</td>\n",
              "      <td>Education</td>\n",
              "      <td>4.0</td>\n",
              "    </tr>\n",
              "    <tr>\n",
              "      <th>162</th>\n",
              "      <td>NAVIGON Europe</td>\n",
              "      <td>74.99</td>\n",
              "      <td>Navigation</td>\n",
              "      <td>3.5</td>\n",
              "    </tr>\n",
              "    <tr>\n",
              "      <th>1136</th>\n",
              "      <td>Articulation Station Pro</td>\n",
              "      <td>59.99</td>\n",
              "      <td>Education</td>\n",
              "      <td>4.5</td>\n",
              "    </tr>\n",
              "    <tr>\n",
              "      <th>1479</th>\n",
              "      <td>LAMP Words For Life</td>\n",
              "      <td>299.99</td>\n",
              "      <td>Education</td>\n",
              "      <td>4.0</td>\n",
              "    </tr>\n",
              "    <tr>\n",
              "      <th>2181</th>\n",
              "      <td>Articulation Test Center Pro</td>\n",
              "      <td>59.99</td>\n",
              "      <td>Education</td>\n",
              "      <td>4.5</td>\n",
              "    </tr>\n",
              "    <tr>\n",
              "      <th>2568</th>\n",
              "      <td>KNFB Reader</td>\n",
              "      <td>99.99</td>\n",
              "      <td>Productivity</td>\n",
              "      <td>4.5</td>\n",
              "    </tr>\n",
              "    <tr>\n",
              "      <th>3238</th>\n",
              "      <td>FineScanner Pro - PDF Document Scanner App + OCR</td>\n",
              "      <td>59.99</td>\n",
              "      <td>Business</td>\n",
              "      <td>4.0</td>\n",
              "    </tr>\n",
              "  </tbody>\n",
              "</table>\n",
              "</div>"
            ],
            "text/plain": [
              "                                            track_name  ...  user_rating\n",
              "115                     Proloquo2Go - Symbol-based AAC  ...          4.0\n",
              "162                                     NAVIGON Europe  ...          3.5\n",
              "1136                          Articulation Station Pro  ...          4.5\n",
              "1479                               LAMP Words For Life  ...          4.0\n",
              "2181                      Articulation Test Center Pro  ...          4.5\n",
              "2568                                       KNFB Reader  ...          4.5\n",
              "3238  FineScanner Pro - PDF Document Scanner App + OCR  ...          4.0\n",
              "\n",
              "[7 rows x 4 columns]"
            ]
          },
          "metadata": {
            "tags": []
          },
          "execution_count": 11
        }
      ]
    },
    {
      "cell_type": "code",
      "metadata": {
        "colab": {
          "base_uri": "https://localhost:8080/"
        },
        "id": "QfmKLAd-hlW3",
        "outputId": "c03a47cc-9216-48bf-9bdf-83cb023d86ad"
      },
      "source": [
        "# removing\n",
        "paidapps =apple_df[((apple_df.price<50) & (apple_df.price>0))]\n",
        "print('Now the max price of any app in new data is : ' + str(max(paidapps.price)))\n",
        "print('Now the min price of any app in new data is : ' + str(min(paidapps.price)))\n",
        "#paidapps.prime_genre.value_counts()"
      ],
      "execution_count": 13,
      "outputs": [
        {
          "output_type": "stream",
          "text": [
            "Now the max price of any app in new data is : 49.99\n",
            "Now the min price of any app in new data is : 0.99\n"
          ],
          "name": "stdout"
        }
      ]
    },
    {
      "cell_type": "markdown",
      "metadata": {
        "id": "zxd8OJ6ciLFW"
      },
      "source": [
        "**2. How is price affected by category?**"
      ]
    },
    {
      "cell_type": "code",
      "metadata": {
        "colab": {
          "base_uri": "https://localhost:8080/",
          "height": 734
        },
        "id": "t-WbLpAEiZ0-",
        "outputId": "27941d8b-40d6-422b-e416-a89c2e3903f5"
      },
      "source": [
        "yrange = [0,25]\n",
        "fsize =15\n",
        "\n",
        "plt.figure(figsize=(15,10))\n",
        "\n",
        "plt.subplot(4,1,1)\n",
        "plt.xlim(yrange)\n",
        "games = paidapps[paidapps.prime_genre=='Games']\n",
        "sns.stripplot(data=games,y='price',jitter= True , orient ='h',size=6,color='#eb5e66')\n",
        "plt.title('Games',fontsize=fsize)\n",
        "plt.xlabel('') \n",
        "\n",
        "plt.subplot(4,1,2)\n",
        "plt.xlim(yrange)\n",
        "ent = paidapps[paidapps.prime_genre=='Entertainment']\n",
        "sns.stripplot(data=ent,y='price',jitter= True ,orient ='h',size=6,color='#ff8300')\n",
        "plt.title('Entertainment',fontsize=fsize)\n",
        "plt.xlabel('') \n",
        "\n",
        "plt.subplot(4,1,3)\n",
        "plt.xlim(yrange)\n",
        "edu = paidapps[paidapps.prime_genre=='Education']\n",
        "sns.stripplot(data=edu,y='price',jitter= True ,orient ='h' ,size=6,color='#20B2AA')\n",
        "plt.title('Education',fontsize=fsize)\n",
        "plt.xlabel('') \n",
        "\n",
        "plt.subplot(4,1,4)\n",
        "plt.xlim(yrange)\n",
        "pv = paidapps[paidapps.prime_genre=='Photo & Video']\n",
        "sns.stripplot(data=pv,y='price',jitter= True  ,orient ='h',size=6,color='#b84efd')\n",
        "plt.title('Photo & Video',fontsize=fsize)\n",
        "plt.xlabel('') \n",
        "\n",
        "plt.show()"
      ],
      "execution_count": 14,
      "outputs": [
        {
          "output_type": "stream",
          "text": [
            "/usr/local/lib/python3.7/dist-packages/seaborn/_core.py:1312: UserWarning: Horizontal orientation ignored with only `y` specified.\n",
            "  warnings.warn(single_var_warning.format(\"Horizontal\", \"y\"))\n",
            "/usr/local/lib/python3.7/dist-packages/seaborn/_core.py:1312: UserWarning: Horizontal orientation ignored with only `y` specified.\n",
            "  warnings.warn(single_var_warning.format(\"Horizontal\", \"y\"))\n",
            "/usr/local/lib/python3.7/dist-packages/seaborn/_core.py:1312: UserWarning: Horizontal orientation ignored with only `y` specified.\n",
            "  warnings.warn(single_var_warning.format(\"Horizontal\", \"y\"))\n",
            "/usr/local/lib/python3.7/dist-packages/seaborn/_core.py:1312: UserWarning: Horizontal orientation ignored with only `y` specified.\n",
            "  warnings.warn(single_var_warning.format(\"Horizontal\", \"y\"))\n"
          ],
          "name": "stderr"
        },
        {
          "output_type": "display_data",
          "data": {
            "image/png": "[encoded data removed]",
            "text/plain": [
              "<Figure size 1080x720 with 4 Axes>"
            ]
          },
          "metadata": {
            "tags": [],
            "needs_background": "light"
          }
        }
      ]
    },
    {
      "cell_type": "markdown",
      "metadata": {
        "id": "Z3WeYWoTiyLT"
      },
      "source": [
        "**3. How does distribution of free vs. paid apps vary by category?**"
      ]
    },
    {
      "cell_type": "code",
      "metadata": {
        "colab": {
          "base_uri": "https://localhost:8080/"
        },
        "id": "0KJdXdq3i0j2",
        "outputId": "1d0f9230-de52-409b-911f-5a5754c9a16f"
      },
      "source": [
        "print(\"There are total of \" + str(len(apple_df.prime_genre.value_counts().index)) \n",
        "      + \" categories\")\n"
      ],
      "execution_count": 22,
      "outputs": [
        {
          "output_type": "stream",
          "text": [
            "There are total of 23 categories\n"
          ],
          "name": "stdout"
        }
      ]
    },
    {
      "cell_type": "markdown",
      "metadata": {
        "id": "qc_D27i1jXf2"
      },
      "source": [
        "# reducing the number of categories to better interpret data"
      ]
    },
    {
      "cell_type": "code",
      "metadata": {
        "id": "AP_hReyOjdbQ"
      },
      "source": [
        "s = apple_df.prime_genre.value_counts().index[:4]\n",
        "def categ(x):\n",
        "    if x in s:\n",
        "        return x\n",
        "    else : \n",
        "        return \"Others\"\n",
        "\n",
        "apple_df['broad_genre']= apple_df.prime_genre.apply(lambda x : categ(x))"
      ],
      "execution_count": 24,
      "outputs": []
    },
    {
      "cell_type": "code",
      "metadata": {
        "colab": {
          "base_uri": "https://localhost:8080/",
          "height": 204
        },
        "id": "TtDe9rV6joaO",
        "outputId": "13fa6692-2253-41be-a118-fdd28b3cc3ba"
      },
      "source": [
        "free = apple_df[apple_df.price==0].broad_genre.value_counts().sort_index().to_frame()\n",
        "paid = apple_df[apple_df.price>0].broad_genre.value_counts().sort_index().to_frame()\n",
        "total = apple_df.broad_genre.value_counts().sort_index().to_frame()\n",
        "free.columns=['free']\n",
        "paid.columns=['paid']\n",
        "total.columns=['total']\n",
        "dist = free.join(paid).join(total)\n",
        "dist ['paid_per'] = dist.paid*100/dist.total\n",
        "dist ['free_per'] = dist.free*100/dist.total\n",
        "dist"
      ],
      "execution_count": 25,
      "outputs": [
        {
          "output_type": "execute_result",
          "data": {
            "text/html": [
              "<div>\n",
              "<style scoped>\n",
              "    .dataframe tbody tr th:only-of-type {\n",
              "        vertical-align: middle;\n",
              "    }\n",
              "\n",
              "    .dataframe tbody tr th {\n",
              "        vertical-align: top;\n",
              "    }\n",
              "\n",
              "    .dataframe thead th {\n",
              "        text-align: right;\n",
              "    }\n",
              "</style>\n",
              "<table border=\"1\" class=\"dataframe\">\n",
              "  <thead>\n",
              "    <tr style=\"text-align: right;\">\n",
              "      <th></th>\n",
              "      <th>free</th>\n",
              "      <th>paid</th>\n",
              "      <th>total</th>\n",
              "      <th>paid_per</th>\n",
              "      <th>free_per</th>\n",
              "    </tr>\n",
              "  </thead>\n",
              "  <tbody>\n",
              "    <tr>\n",
              "      <th>Education</th>\n",
              "      <td>132</td>\n",
              "      <td>321</td>\n",
              "      <td>453</td>\n",
              "      <td>70.860927</td>\n",
              "      <td>29.139073</td>\n",
              "    </tr>\n",
              "    <tr>\n",
              "      <th>Entertainment</th>\n",
              "      <td>334</td>\n",
              "      <td>201</td>\n",
              "      <td>535</td>\n",
              "      <td>37.570093</td>\n",
              "      <td>62.429907</td>\n",
              "    </tr>\n",
              "    <tr>\n",
              "      <th>Games</th>\n",
              "      <td>2257</td>\n",
              "      <td>1605</td>\n",
              "      <td>3862</td>\n",
              "      <td>41.558778</td>\n",
              "      <td>58.441222</td>\n",
              "    </tr>\n",
              "    <tr>\n",
              "      <th>Others</th>\n",
              "      <td>1166</td>\n",
              "      <td>832</td>\n",
              "      <td>1998</td>\n",
              "      <td>41.641642</td>\n",
              "      <td>58.358358</td>\n",
              "    </tr>\n",
              "    <tr>\n",
              "      <th>Photo &amp; Video</th>\n",
              "      <td>167</td>\n",
              "      <td>182</td>\n",
              "      <td>349</td>\n",
              "      <td>52.148997</td>\n",
              "      <td>47.851003</td>\n",
              "    </tr>\n",
              "  </tbody>\n",
              "</table>\n",
              "</div>"
            ],
            "text/plain": [
              "               free  paid  total   paid_per   free_per\n",
              "Education       132   321    453  70.860927  29.139073\n",
              "Entertainment   334   201    535  37.570093  62.429907\n",
              "Games          2257  1605   3862  41.558778  58.441222\n",
              "Others         1166   832   1998  41.641642  58.358358\n",
              "Photo & Video   167   182    349  52.148997  47.851003"
            ]
          },
          "metadata": {
            "tags": []
          },
          "execution_count": 25
        }
      ]
    },
    {
      "cell_type": "code",
      "metadata": {
        "id": "y4KOGyvfnNd9"
      },
      "source": [
        "list_free= dist.free_per.tolist()\n",
        "tuple_free = tuple(list_free)\n",
        "tuple_paidapps = tuple(dist.paid_per.tolist())"
      ],
      "execution_count": 26,
      "outputs": []
    },
    {
      "cell_type": "code",
      "metadata": {
        "colab": {
          "base_uri": "https://localhost:8080/",
          "height": 483
        },
        "id": "jMc8t-ninQk8",
        "outputId": "d84648da-42eb-47e8-8488-6f86e256ca69"
      },
      "source": [
        "plt.figure(figsize=(15,8))\n",
        "N=5\n",
        "ind = np.arange(N)    # the x locations for the groups\n",
        "width =0.56   # the width of the bars: can also be len(x) sequence\n",
        "\n",
        "p1 = plt.bar(ind, tuple_free, width, color='#45cea2')\n",
        "p2 = plt.bar(ind, tuple_paidapps, width,bottom=tuple_free,color='#fdd470')\n",
        "plt.xticks(ind,tuple(dist.index.tolist() ))\n",
        "plt.legend((p1[0], p2[0]), ('free', 'paid'))\n",
        "plt.show()\n",
        "# for pie chart\n",
        "pies = dist[['free_per','paid_per']]\n",
        "pies.columns=['free %','paid %']\n",
        "plt.show()"
      ],
      "execution_count": 27,
      "outputs": [
        {
          "output_type": "display_data",
          "data": {
            "image/png": "[encoded data removed]",
            "text/plain": [
              "<Figure size 1080x576 with 1 Axes>"
            ]
          },
          "metadata": {
            "tags": [],
            "needs_background": "light"
          }
        }
      ]
    },
    {
      "cell_type": "markdown",
      "metadata": {
        "id": "o3sU3P2tncBy"
      },
      "source": [
        "4. As app size increase, does price increase as well?"
      ]
    },
    {
      "cell_type": "code",
      "metadata": {
        "colab": {
          "base_uri": "https://localhost:8080/",
          "height": 941
        },
        "id": "tMdaSg7mnnli",
        "outputId": "80789c7b-1f92-42dd-fc3b-4542276ab2db"
      },
      "source": [
        "sns.color_palette(\"husl\", 8)\n",
        "sns.set_style(\"whitegrid\")\n",
        "flatui = [\"#9b59b6\", \"#3498db\", \"#95a5a6\", \"#e74c3c\", \"#34495e\", \"#2ecc71\"]\n",
        "apple_df ['MB']= apple_df.size_bytes.apply(lambda x : x/1048576)\n",
        "paidapps_regression =apple_df[((apple_df.price<30) & (apple_df.price>0))]\n",
        "sns.lmplot(data=paidapps_regression,\n",
        "           x='MB',y='price',size=4, aspect=2,col_wrap=2,hue='broad_genre',\n",
        "           col='broad_genre',fit_reg=False,palette = sns.color_palette(\"husl\", 5))\n",
        "plt.show()"
      ],
      "execution_count": 29,
      "outputs": [
        {
          "output_type": "stream",
          "text": [
            "/usr/local/lib/python3.7/dist-packages/seaborn/regression.py:580: UserWarning: The `size` parameter has been renamed to `height`; please update your code.\n",
            "  warnings.warn(msg, UserWarning)\n"
          ],
          "name": "stderr"
        },
        {
          "output_type": "display_data",
          "data": {
            "image/png": "[encoded data removed]",
            "text/plain": [
              "<Figure size 1152x864 with 5 Axes>"
            ]
          },
          "metadata": {
            "tags": []
          }
        }
      ]
    }
  ]
}